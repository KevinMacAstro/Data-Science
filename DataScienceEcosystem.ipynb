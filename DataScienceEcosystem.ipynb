{
  "metadata": {
    "kernelspec": {
      "name": "python",
      "display_name": "Python (Pyodide)",
      "language": "python"
    },
    "language_info": {
      "codemirror_mode": {
        "name": "python",
        "version": 3
      },
      "file_extension": ".py",
      "mimetype": "text/x-python",
      "name": "python",
      "nbconvert_exporter": "python",
      "pygments_lexer": "ipython3",
      "version": "3.8"
    }
  },
  "nbformat_minor": 5,
  "nbformat": 4,
  "cells": [
    {
      "id": "e6314425-e174-48ed-92ac-c3cf864e6df0",
      "cell_type": "markdown",
      "source": "<h1>Data Science Tools and Ecosystem</h1>",
      "metadata": {}
    },
    {
      "id": "a30c7426-6379-4bbf-8a1f-57a593931c42",
      "cell_type": "markdown",
      "source": "In this notebook, Data Science Tools and Ecosystem are symmarized.",
      "metadata": {}
    },
    {
      "id": "f0552e5a-1710-4ff4-afac-aaa638cea7bf",
      "cell_type": "markdown",
      "source": "__Objectives:__\n- List popular languages for Data Science\n- List commonly used Data Science libraries\n- Give some examples of arthmetic expression in Python",
      "metadata": {}
    },
    {
      "id": "b2dc41d8-fcdb-412c-9e18-6f06f4a55b3c",
      "cell_type": "markdown",
      "source": "<h2>Author</h2>\nKevin Spencer McCarthy",
      "metadata": {}
    },
    {
      "id": "a50e6fc2-73c2-4f43-a7d6-3d8bcbe40029",
      "cell_type": "markdown",
      "source": "Some of the popular languages that Data Scientists use are:\n<ol>\n  <p>1) Python</p>\n  <p>2) R</p>\n  <p>3) SQL</p>\n  <p>4) Julia</p>\n</ol>",
      "metadata": {}
    },
    {
      "id": "f610d098-b8a7-4747-8370-4294762d39f8",
      "cell_type": "markdown",
      "source": "Some of the commonly used libraries used by Data Scientists include:\n<ol>\n  <p>1) Pandas</p>\n  <p>2) Numpy</p>\n  <p>3) PyTorch</p>\n  <p>4) Matplotlib</p>\n</ol>",
      "metadata": {}
    },
    {
      "id": "b2de66f2-2e8c-4259-b215-3386dbebdc0a",
      "cell_type": "markdown",
      "source": "| Data Science Tools |\n|--------------------|\n| Git |\n| Visual Studio Code |\n Cordova |",
      "metadata": {}
    },
    {
      "id": "c09a0a9a-e42b-499a-b9e2-519606eceb66",
      "cell_type": "markdown",
      "source": "### Below are a few examples of evaluating arithmetic expressions in Python",
      "metadata": {}
    },
    {
      "id": "398f0e49-1693-4019-a91f-1be44c9c98b7",
      "cell_type": "code",
      "source": "# This a simple arithmetic expression to mutiply then add integers\n(3*4)+5",
      "metadata": {
        "trusted": true
      },
      "outputs": [
        {
          "execution_count": 2,
          "output_type": "execute_result",
          "data": {
            "text/plain": "17"
          },
          "metadata": {}
        }
      ],
      "execution_count": 2
    },
    {
      "id": "8f3ab37d-0a78-4cf5-af85-12b5a1636418",
      "cell_type": "code",
      "source": "# This will convert 200 minutes to hours by dividing by 60.\n200/60",
      "metadata": {
        "trusted": true
      },
      "outputs": [
        {
          "execution_count": 3,
          "output_type": "execute_result",
          "data": {
            "text/plain": "3.3333333333333335"
          },
          "metadata": {}
        }
      ],
      "execution_count": 3
    },
    {
      "id": "7553bf13-dd98-4cf1-969b-3f4762863b01",
      "cell_type": "markdown",
      "source": "",
      "metadata": {}
    }
  ]
}